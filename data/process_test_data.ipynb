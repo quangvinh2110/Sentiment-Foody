{
 "cells": [
  {
   "cell_type": "code",
   "execution_count": 1,
   "id": "d714da48",
   "metadata": {},
   "outputs": [
    {
     "name": "stdout",
     "output_type": "stream",
     "text": [
      "2022-12-07 17:47:06 INFO  WordSegmenter:24 - Loading Word Segmentation model\n"
     ]
    }
   ],
   "source": [
    "import pandas as pd\n",
    "from data_utils import *\n",
    "from preprocess.preprocess import handle_foody_data, handle_teencode"
   ]
  },
  {
   "cell_type": "code",
   "execution_count": 2,
   "id": "fc7b8039",
   "metadata": {},
   "outputs": [],
   "source": [
    "data = pd.read_csv('./data/test.csv').fillna(\"rất ngon, tuyệt vời\")\n",
    "data = data[['RevId', 'Comment']]"
   ]
  },
  {
   "cell_type": "code",
   "execution_count": 3,
   "id": "a377bde0",
   "metadata": {},
   "outputs": [],
   "source": [
    "all_text = \"<sep>\".join(data['Comment'].values)\n",
    "all_text = handle_foody_data(all_text, lowercase=False, tone_normalize=False)\n",
    "new_text = all_text.split(\"<sep>\")"
   ]
  },
  {
   "cell_type": "code",
   "execution_count": 6,
   "id": "aeb7eb29",
   "metadata": {},
   "outputs": [
    {
     "name": "stdout",
     "output_type": "stream",
     "text": [
      "5103\n",
      "5103\n"
     ]
    }
   ],
   "source": [
    "print(len(data))\n",
    "print(len(new_text))"
   ]
  },
  {
   "cell_type": "code",
   "execution_count": 7,
   "id": "c890af48",
   "metadata": {},
   "outputs": [
    {
     "name": "stderr",
     "output_type": "stream",
     "text": [
      "100%|█████████████████████████████████████████████████████████████████████████████████████████| 5103/5103 [00:13<00:00, 385.45it/s]\n"
     ]
    }
   ],
   "source": [
    "new_text = segment_data(new_text)"
   ]
  },
  {
   "cell_type": "code",
   "execution_count": 8,
   "id": "d5f3b393",
   "metadata": {},
   "outputs": [],
   "source": [
    "data['text'] = pd.Series(new_text)"
   ]
  },
  {
   "cell_type": "code",
   "execution_count": 10,
   "id": "7658d8bb",
   "metadata": {},
   "outputs": [],
   "source": [
    "data.to_csv('test_1.csv', index=False)"
   ]
  },
  {
   "cell_type": "code",
   "execution_count": 11,
   "id": "183f6d75",
   "metadata": {},
   "outputs": [
    {
     "data": {
      "text/html": [
       "<div>\n",
       "<style scoped>\n",
       "    .dataframe tbody tr th:only-of-type {\n",
       "        vertical-align: middle;\n",
       "    }\n",
       "\n",
       "    .dataframe tbody tr th {\n",
       "        vertical-align: top;\n",
       "    }\n",
       "\n",
       "    .dataframe thead th {\n",
       "        text-align: right;\n",
       "    }\n",
       "</style>\n",
       "<table border=\"1\" class=\"dataframe\">\n",
       "  <thead>\n",
       "    <tr style=\"text-align: right;\">\n",
       "      <th></th>\n",
       "      <th>RevId</th>\n",
       "      <th>Comment</th>\n",
       "      <th>text</th>\n",
       "    </tr>\n",
       "  </thead>\n",
       "  <tbody>\n",
       "    <tr>\n",
       "      <th>0</th>\n",
       "      <td>781115</td>\n",
       "      <td>Trà táo 35k\\nCookie socola 38k \\nNước ở đây bì...</td>\n",
       "      <td>Trà táo 35k Cookie socola 38k Nước ở đây bình_...</td>\n",
       "    </tr>\n",
       "    <tr>\n",
       "      <th>1</th>\n",
       "      <td>1219481</td>\n",
       "      <td>Hôm rồi trung tâm mình tổ chức noel party ở đâ...</td>\n",
       "      <td>Hôm rồi trung_tâm mình tổ_chức noel party ở đâ...</td>\n",
       "    </tr>\n",
       "    <tr>\n",
       "      <th>2</th>\n",
       "      <td>1703765</td>\n",
       "      <td>Thịt gà của quán là nhất đấy. Đi ăn gọi liền 4...</td>\n",
       "      <td>Thịt gà của quán là nhất đấy . Đi ăn gọi liền ...</td>\n",
       "    </tr>\n",
       "    <tr>\n",
       "      <th>3</th>\n",
       "      <td>4870346</td>\n",
       "      <td>Hai đứa ăn xong đau bụng cả ngày\\nChân gà ok n...</td>\n",
       "      <td>Hai đứa ăn xong đau bụng cả ngày Chân gà ok nh...</td>\n",
       "    </tr>\n",
       "    <tr>\n",
       "      <th>4</th>\n",
       "      <td>2638711</td>\n",
       "      <td>Mình vừa thử trưa nay. Điểm cộng đầu tiên là b...</td>\n",
       "      <td>Mình vừa thử trưa nay . Điểm cộng đầu_tiên là ...</td>\n",
       "    </tr>\n",
       "    <tr>\n",
       "      <th>...</th>\n",
       "      <td>...</td>\n",
       "      <td>...</td>\n",
       "      <td>...</td>\n",
       "    </tr>\n",
       "    <tr>\n",
       "      <th>5098</th>\n",
       "      <td>1025826</td>\n",
       "      <td>Bún riêu ở đây ngon mà, lúc nào cũng đông, thế...</td>\n",
       "      <td>Bún riêu ở đây ngon mà , lúc_nào cũng đông , t...</td>\n",
       "    </tr>\n",
       "    <tr>\n",
       "      <th>5099</th>\n",
       "      <td>1278470</td>\n",
       "      <td>Quán ngồi thoải mái và cưc thích ❤ menu đa dạn...</td>\n",
       "      <td>Quán ngồi thoải_mái và cưc thích ( red heart )...</td>\n",
       "    </tr>\n",
       "    <tr>\n",
       "      <th>5100</th>\n",
       "      <td>2565212</td>\n",
       "      <td>Quá thất vọng, chất lượng sản phẩm ngày càng đ...</td>\n",
       "      <td>Quá thất_vọng , chất_lượng sản_phẩm ngày_càng ...</td>\n",
       "    </tr>\n",
       "    <tr>\n",
       "      <th>5101</th>\n",
       "      <td>3766155</td>\n",
       "      <td>Giao hàng nhanh,  miếng băm chả đều ngon ko bị...</td>\n",
       "      <td>Giao hàng nhanh , miếng băm chả đều ngon không...</td>\n",
       "    </tr>\n",
       "    <tr>\n",
       "      <th>5102</th>\n",
       "      <td>1070891</td>\n",
       "      <td>Nhìn ở bên ngoài trông quán khá bé nhưng vào t...</td>\n",
       "      <td>Nhìn ở bên ngoài trông quán khá bé nhưng vào t...</td>\n",
       "    </tr>\n",
       "  </tbody>\n",
       "</table>\n",
       "<p>5103 rows × 3 columns</p>\n",
       "</div>"
      ],
      "text/plain": [
       "        RevId                                            Comment  \\\n",
       "0      781115  Trà táo 35k\\nCookie socola 38k \\nNước ở đây bì...   \n",
       "1     1219481  Hôm rồi trung tâm mình tổ chức noel party ở đâ...   \n",
       "2     1703765  Thịt gà của quán là nhất đấy. Đi ăn gọi liền 4...   \n",
       "3     4870346  Hai đứa ăn xong đau bụng cả ngày\\nChân gà ok n...   \n",
       "4     2638711  Mình vừa thử trưa nay. Điểm cộng đầu tiên là b...   \n",
       "...       ...                                                ...   \n",
       "5098  1025826  Bún riêu ở đây ngon mà, lúc nào cũng đông, thế...   \n",
       "5099  1278470  Quán ngồi thoải mái và cưc thích ❤ menu đa dạn...   \n",
       "5100  2565212  Quá thất vọng, chất lượng sản phẩm ngày càng đ...   \n",
       "5101  3766155  Giao hàng nhanh,  miếng băm chả đều ngon ko bị...   \n",
       "5102  1070891  Nhìn ở bên ngoài trông quán khá bé nhưng vào t...   \n",
       "\n",
       "                                                   text  \n",
       "0     Trà táo 35k Cookie socola 38k Nước ở đây bình_...  \n",
       "1     Hôm rồi trung_tâm mình tổ_chức noel party ở đâ...  \n",
       "2     Thịt gà của quán là nhất đấy . Đi ăn gọi liền ...  \n",
       "3     Hai đứa ăn xong đau bụng cả ngày Chân gà ok nh...  \n",
       "4     Mình vừa thử trưa nay . Điểm cộng đầu_tiên là ...  \n",
       "...                                                 ...  \n",
       "5098  Bún riêu ở đây ngon mà , lúc_nào cũng đông , t...  \n",
       "5099  Quán ngồi thoải_mái và cưc thích ( red heart )...  \n",
       "5100  Quá thất_vọng , chất_lượng sản_phẩm ngày_càng ...  \n",
       "5101  Giao hàng nhanh , miếng băm chả đều ngon không...  \n",
       "5102  Nhìn ở bên ngoài trông quán khá bé nhưng vào t...  \n",
       "\n",
       "[5103 rows x 3 columns]"
      ]
     },
     "execution_count": 11,
     "metadata": {},
     "output_type": "execute_result"
    }
   ],
   "source": [
    "data"
   ]
  },
  {
   "cell_type": "code",
   "execution_count": null,
   "id": "941033a5",
   "metadata": {},
   "outputs": [],
   "source": []
  }
 ],
 "metadata": {
  "kernelspec": {
   "display_name": "Python 3 (ipykernel)",
   "language": "python",
   "name": "python3"
  },
  "language_info": {
   "codemirror_mode": {
    "name": "ipython",
    "version": 3
   },
   "file_extension": ".py",
   "mimetype": "text/x-python",
   "name": "python",
   "nbconvert_exporter": "python",
   "pygments_lexer": "ipython3",
   "version": "3.9.13"
  }
 },
 "nbformat": 4,
 "nbformat_minor": 5
}

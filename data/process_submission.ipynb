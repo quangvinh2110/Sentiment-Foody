{
 "cells": [
  {
   "cell_type": "code",
   "execution_count": 18,
   "id": "ac8ca929",
   "metadata": {
    "scrolled": true
   },
   "outputs": [],
   "source": [
    "import pandas as pd\n",
    "from data_utils import *\n",
    "from preprocess.preprocess import *"
   ]
  },
  {
   "cell_type": "code",
   "execution_count": 19,
   "id": "b526dbdf",
   "metadata": {},
   "outputs": [],
   "source": [
    "data = pd.read_csv('./data/original_data/test.csv', index_col=[0]).fillna(\"ngon\")"
   ]
  },
  {
   "cell_type": "code",
   "execution_count": 24,
   "id": "49bb08e7",
   "metadata": {},
   "outputs": [
    {
     "name": "stderr",
     "output_type": "stream",
     "text": [
      "100%|██████████| 5103/5103 [00:08<00:00, 601.85it/s]\n"
     ]
    }
   ],
   "source": [
    "# data['text'] = data['Comment'].apply(lambda s: handle_foody_data(s, phone_number=\" <PN> \", url=\" <URL> \", email=\" <MAIL> \"))\n",
    "text = list(map(normalize_text_to_nfc_standard, data['Comment'].values))\n",
    "new_text = segment_data(text)"
   ]
  },
  {
   "cell_type": "code",
   "execution_count": 21,
   "id": "018febb9",
   "metadata": {},
   "outputs": [
    {
     "data": {
      "text/html": [
       "<div>\n",
       "<style scoped>\n",
       "    .dataframe tbody tr th:only-of-type {\n",
       "        vertical-align: middle;\n",
       "    }\n",
       "\n",
       "    .dataframe tbody tr th {\n",
       "        vertical-align: top;\n",
       "    }\n",
       "\n",
       "    .dataframe thead th {\n",
       "        text-align: right;\n",
       "    }\n",
       "</style>\n",
       "<table border=\"1\" class=\"dataframe\">\n",
       "  <thead>\n",
       "    <tr style=\"text-align: right;\">\n",
       "      <th></th>\n",
       "      <th>RevId</th>\n",
       "      <th>UserId</th>\n",
       "      <th>Comment</th>\n",
       "      <th>image_urls</th>\n",
       "    </tr>\n",
       "  </thead>\n",
       "  <tbody>\n",
       "    <tr>\n",
       "      <th>0</th>\n",
       "      <td>781115</td>\n",
       "      <td>1326532</td>\n",
       "      <td>Trà táo 35k\\nCookie socola 38k \\nNước ở đây bì...</td>\n",
       "      <td>['https://images.foody.vn/res/g8/73091/s800/fo...</td>\n",
       "    </tr>\n",
       "    <tr>\n",
       "      <th>1</th>\n",
       "      <td>1219481</td>\n",
       "      <td>422306</td>\n",
       "      <td>Hôm rồi trung tâm mình tổ chức noel party ở đâ...</td>\n",
       "      <td>['https://images.foody.vn/res/g1/33/s800/foody...</td>\n",
       "    </tr>\n",
       "    <tr>\n",
       "      <th>2</th>\n",
       "      <td>1703765</td>\n",
       "      <td>9779143</td>\n",
       "      <td>Thịt gà của quán là nhất đấy. Đi ăn gọi liền 4...</td>\n",
       "      <td>['https://images.foody.vn/res/g66/659655/s800/...</td>\n",
       "    </tr>\n",
       "    <tr>\n",
       "      <th>3</th>\n",
       "      <td>4870346</td>\n",
       "      <td>12924388</td>\n",
       "      <td>Hai đứa ăn xong đau bụng cả ngày\\nChân gà ok n...</td>\n",
       "      <td>['https://images.foody.vn/res/g78/772244/s800/...</td>\n",
       "    </tr>\n",
       "    <tr>\n",
       "      <th>4</th>\n",
       "      <td>2638711</td>\n",
       "      <td>1134279</td>\n",
       "      <td>Mình vừa thử trưa nay. Điểm cộng đầu tiên là b...</td>\n",
       "      <td>['https://images.foody.vn/res/g74/737874/s800/...</td>\n",
       "    </tr>\n",
       "    <tr>\n",
       "      <th>...</th>\n",
       "      <td>...</td>\n",
       "      <td>...</td>\n",
       "      <td>...</td>\n",
       "      <td>...</td>\n",
       "    </tr>\n",
       "    <tr>\n",
       "      <th>5098</th>\n",
       "      <td>1025826</td>\n",
       "      <td>132889</td>\n",
       "      <td>Bún riêu ở đây ngon mà, lúc nào cũng đông, thế...</td>\n",
       "      <td>['https://images.foody.vn/res/g10/92649/s800/f...</td>\n",
       "    </tr>\n",
       "    <tr>\n",
       "      <th>5099</th>\n",
       "      <td>1278470</td>\n",
       "      <td>1691594</td>\n",
       "      <td>Quán ngồi thoải mái và cưc thích ❤ menu đa dạn...</td>\n",
       "      <td>['https://images.foody.vn/res/g25/247296/s800/...</td>\n",
       "    </tr>\n",
       "    <tr>\n",
       "      <th>5100</th>\n",
       "      <td>2565212</td>\n",
       "      <td>9989615</td>\n",
       "      <td>Quá thất vọng, chất lượng sản phẩm ngày càng đ...</td>\n",
       "      <td>['https://images.foody.vn/res/g89/888154/s800/...</td>\n",
       "    </tr>\n",
       "    <tr>\n",
       "      <th>5101</th>\n",
       "      <td>3766155</td>\n",
       "      <td>17686862</td>\n",
       "      <td>Giao hàng nhanh,  miếng băm chả đều ngon ko bị...</td>\n",
       "      <td>['https://images.foody.vn/res/g13/128194/s800/...</td>\n",
       "    </tr>\n",
       "    <tr>\n",
       "      <th>5102</th>\n",
       "      <td>1070891</td>\n",
       "      <td>1141468</td>\n",
       "      <td>Nhìn ở bên ngoài trông quán khá bé nhưng vào t...</td>\n",
       "      <td>['https://images.foody.vn/res/g29/280391/s800/...</td>\n",
       "    </tr>\n",
       "  </tbody>\n",
       "</table>\n",
       "<p>5103 rows × 4 columns</p>\n",
       "</div>"
      ],
      "text/plain": [
       "        RevId    UserId                                            Comment  \\\n",
       "0      781115   1326532  Trà táo 35k\\nCookie socola 38k \\nNước ở đây bì...   \n",
       "1     1219481    422306  Hôm rồi trung tâm mình tổ chức noel party ở đâ...   \n",
       "2     1703765   9779143  Thịt gà của quán là nhất đấy. Đi ăn gọi liền 4...   \n",
       "3     4870346  12924388  Hai đứa ăn xong đau bụng cả ngày\\nChân gà ok n...   \n",
       "4     2638711   1134279  Mình vừa thử trưa nay. Điểm cộng đầu tiên là b...   \n",
       "...       ...       ...                                                ...   \n",
       "5098  1025826    132889  Bún riêu ở đây ngon mà, lúc nào cũng đông, thế...   \n",
       "5099  1278470   1691594  Quán ngồi thoải mái và cưc thích ❤ menu đa dạn...   \n",
       "5100  2565212   9989615  Quá thất vọng, chất lượng sản phẩm ngày càng đ...   \n",
       "5101  3766155  17686862  Giao hàng nhanh,  miếng băm chả đều ngon ko bị...   \n",
       "5102  1070891   1141468  Nhìn ở bên ngoài trông quán khá bé nhưng vào t...   \n",
       "\n",
       "                                             image_urls  \n",
       "0     ['https://images.foody.vn/res/g8/73091/s800/fo...  \n",
       "1     ['https://images.foody.vn/res/g1/33/s800/foody...  \n",
       "2     ['https://images.foody.vn/res/g66/659655/s800/...  \n",
       "3     ['https://images.foody.vn/res/g78/772244/s800/...  \n",
       "4     ['https://images.foody.vn/res/g74/737874/s800/...  \n",
       "...                                                 ...  \n",
       "5098  ['https://images.foody.vn/res/g10/92649/s800/f...  \n",
       "5099  ['https://images.foody.vn/res/g25/247296/s800/...  \n",
       "5100  ['https://images.foody.vn/res/g89/888154/s800/...  \n",
       "5101  ['https://images.foody.vn/res/g13/128194/s800/...  \n",
       "5102  ['https://images.foody.vn/res/g29/280391/s800/...  \n",
       "\n",
       "[5103 rows x 4 columns]"
      ]
     },
     "execution_count": 21,
     "metadata": {},
     "output_type": "execute_result"
    }
   ],
   "source": [
    "data"
   ]
  },
  {
   "cell_type": "code",
   "execution_count": 8,
   "id": "ecf85d42",
   "metadata": {},
   "outputs": [],
   "source": [
    "# from deep_translator import GoogleTranslator\n",
    "\n",
    "# proxies_example = {\n",
    "#     \"https\": \"10.30.153.169:3128\",\n",
    "#     \"http\": \"10.30.153.169:3128\"\n",
    "# }\n",
    "\n",
    "# model = GoogleTranslator(source='en', target='vi', proxies=proxies_example)\n",
    "\n",
    "# # def translate(job):\n",
    "# #     try :\n",
    "# #         if isinstance(job, str):\n",
    "# #             src = translator.detect(job).lang\n",
    "# #             if \"vi\" in src:\n",
    "# #                 src.remove('vi')\n",
    "# #             translated = translator.translate(job, src=src, dest='vi')\n",
    "# #             print(\"translate : \", job, \" -> \", translated.text.lower())\n",
    "# #             return translated.text.lower()\n",
    "# #     except :\n",
    "# #         return job\n",
    "\n",
    "# model.translate('beaming face with smiling eyes')"
   ]
  },
  {
   "cell_type": "code",
   "execution_count": 25,
   "id": "056f61a0",
   "metadata": {},
   "outputs": [],
   "source": [
    "data['text'] = pd.Series(new_text)\n",
    "data = data[['RevId', 'text']]"
   ]
  },
  {
   "cell_type": "code",
   "execution_count": 26,
   "id": "beec9a8f",
   "metadata": {},
   "outputs": [
    {
     "data": {
      "text/html": [
       "<div>\n",
       "<style scoped>\n",
       "    .dataframe tbody tr th:only-of-type {\n",
       "        vertical-align: middle;\n",
       "    }\n",
       "\n",
       "    .dataframe tbody tr th {\n",
       "        vertical-align: top;\n",
       "    }\n",
       "\n",
       "    .dataframe thead th {\n",
       "        text-align: right;\n",
       "    }\n",
       "</style>\n",
       "<table border=\"1\" class=\"dataframe\">\n",
       "  <thead>\n",
       "    <tr style=\"text-align: right;\">\n",
       "      <th></th>\n",
       "      <th>RevId</th>\n",
       "      <th>text</th>\n",
       "    </tr>\n",
       "  </thead>\n",
       "  <tbody>\n",
       "  </tbody>\n",
       "</table>\n",
       "</div>"
      ],
      "text/plain": [
       "Empty DataFrame\n",
       "Columns: [RevId, text]\n",
       "Index: []"
      ]
     },
     "execution_count": 26,
     "metadata": {},
     "output_type": "execute_result"
    }
   ],
   "source": [
    "data[data['text'].isna()]"
   ]
  },
  {
   "cell_type": "code",
   "execution_count": 28,
   "id": "452df8c7",
   "metadata": {},
   "outputs": [],
   "source": [
    "# data.to_csv('./data/original_data/preprocessed_unsegmented_submission.csv', index=False)\n",
    "# data.to_csv('./data/preprocessed_unsegmented_data_2.csv', index=False)\n",
    "data.to_csv('./data/original_data/unpreprocessed_segmented_submission.csv', index=False)"
   ]
  },
  {
   "cell_type": "code",
   "execution_count": null,
   "id": "1af04119",
   "metadata": {},
   "outputs": [],
   "source": []
  }
 ],
 "metadata": {
  "kernelspec": {
   "display_name": "Python 3.10.8 ('python310')",
   "language": "python",
   "name": "python3"
  },
  "language_info": {
   "codemirror_mode": {
    "name": "ipython",
    "version": 3
   },
   "file_extension": ".py",
   "mimetype": "text/x-python",
   "name": "python",
   "nbconvert_exporter": "python",
   "pygments_lexer": "ipython3",
   "version": "3.10.8 (main, Nov 24 2022, 14:13:03) [GCC 11.2.0]"
  },
  "vscode": {
   "interpreter": {
    "hash": "f96b880d9b8b52877ffc5ba618d6f8f367718cc9e0354ce2859c6c97aa00a7f3"
   }
  }
 },
 "nbformat": 4,
 "nbformat_minor": 5
}

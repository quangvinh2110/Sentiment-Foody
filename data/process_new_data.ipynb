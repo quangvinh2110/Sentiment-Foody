{
 "cells": [
  {
   "cell_type": "code",
   "execution_count": 1,
   "id": "ac8ca929",
   "metadata": {
    "scrolled": true
   },
   "outputs": [
    {
     "name": "stdout",
     "output_type": "stream",
     "text": [
      "2022-12-12 11:21:56 INFO  WordSegmenter:24 - Loading Word Segmentation model\n"
     ]
    }
   ],
   "source": [
    "import pandas as pd\n",
    "from data_utils import *\n",
    "from preprocess.preprocess import *"
   ]
  },
  {
   "cell_type": "code",
   "execution_count": 35,
   "id": "9701c802",
   "metadata": {},
   "outputs": [],
   "source": [
    "# data = pd.read_csv('./data/new_data/crawled_data.csv')\n",
    "# text_pos = data[data['rating']>=6]['text'].values.tolist()\n",
    "# text_neg = data[data['rating']<6]['text'].values.tolist()"
   ]
  },
  {
   "cell_type": "code",
   "execution_count": 36,
   "id": "b526dbdf",
   "metadata": {},
   "outputs": [
    {
     "name": "stderr",
     "output_type": "stream",
     "text": [
      "100%|██████████| 15000/15000 [00:02<00:00, 6974.47it/s]\n",
      "100%|██████████| 15000/15000 [00:02<00:00, 7204.57it/s]\n",
      "100%|██████████| 5000/5000 [00:00<00:00, 7233.67it/s]\n",
      "100%|██████████| 5000/5000 [00:00<00:00, 7133.86it/s]\n",
      "100%|██████████| 5000/5000 [00:00<00:00, 7187.36it/s]\n",
      "100%|██████████| 5000/5000 [00:00<00:00, 7201.40it/s]\n"
     ]
    }
   ],
   "source": [
    "text_pos, text_neg = read_new_data()"
   ]
  },
  {
   "cell_type": "code",
   "execution_count": 37,
   "id": "70494f9b",
   "metadata": {},
   "outputs": [
    {
     "name": "stdout",
     "output_type": "stream",
     "text": [
      "25000\n",
      "25000\n"
     ]
    }
   ],
   "source": [
    "print(len(text_pos))\n",
    "print(len(text_neg))"
   ]
  },
  {
   "cell_type": "code",
   "execution_count": 38,
   "id": "bc644c82",
   "metadata": {},
   "outputs": [
    {
     "data": {
      "text/plain": [
       "['Ban_đêm đói bụng tìm đến nhà_hàng này . Không ăn được ếch nên đến đây chỉ chọn các món dimsum .\\nKhông hề thất_vọng , dimsum ở đây rất ngon . Xíu_mại gạch cua thơm véo , sực sực thịt cua . Tàu_hũ ky chiên tôm chấm sốt mayonnaise thì món khoái_khẩu của mình , giòn thơm , chấm với sốt cảm_nhận vị tôm béo , vỏ tàu_hũ giòn_rụm . Món chả_giò hải_sản Singapore cũng là điểm cộng , ráo dầu , nhân nếm vừa_miệng , nước_mắm chua_ngọt hơi sệt ăn rất thích .\\nNhân_viên từ bảo_vệ đến phục_vụ đều vui_vẻ , nbiệt tình .\\nKhông_gian mát_mẻ , xanh và thoáng . Vị_trí cũng thuận_lợi dễ tìm .\\n',\n",
       " 'Mình đi nhóm 4 người , gọi 3caramel và 1 trà xanh . Rất ngon , mùi matcha thơm béo ngậy , thạch ngon , to . View đẹp , khách tập nập . Nhân_viên rất nhiệt_tình .\\n',\n",
       " 'Trà đào thơm , có cả miếng đào , vị trà đậm , uosng xong vẫn còn thấy mùi đào . Đi nắng mà uống 1 ly là ngon phải_biết !\\n']"
      ]
     },
     "execution_count": 38,
     "metadata": {},
     "output_type": "execute_result"
    }
   ],
   "source": [
    "text_pos[:3]"
   ]
  },
  {
   "cell_type": "code",
   "execution_count": 46,
   "id": "fd349e06",
   "metadata": {},
   "outputs": [
    {
     "name": "stderr",
     "output_type": "stream",
     "text": [
      "100%|██████████| 25000/25000 [00:00<00:00, 781062.20it/s]\n",
      "100%|██████████| 25000/25000 [00:00<00:00, 1032957.68it/s]\n"
     ]
    }
   ],
   "source": [
    "text_pos = unsegment_data(text_pos)\n",
    "text_neg = unsegment_data(text_neg)"
   ]
  },
  {
   "cell_type": "code",
   "execution_count": 47,
   "id": "e422a72f",
   "metadata": {},
   "outputs": [],
   "source": [
    "all_text_pos = \"sepsepsepsepsep\".join(text_pos)\n",
    "all_text_neg = \"sepsepsepsepsep\".join(text_neg)"
   ]
  },
  {
   "cell_type": "code",
   "execution_count": 48,
   "id": "3a66da1d",
   "metadata": {},
   "outputs": [],
   "source": [
    "# all_text_pos = handle_foody_data(all_text_pos, lowercase=False, tone_normalize=False)\n",
    "# all_text_neg = handle_foody_data(all_text_neg, lowercase=False, tone_normalize=False)\n",
    "# all_text_pos = handle_foody_data(all_text_pos, lowercase=False)\n",
    "# all_text_neg = handle_foody_data(all_text_neg, lowercase=False)\n",
    "# all_text_pos = handle_foody_data(all_text_pos, phone_number=\" <PN> \", url=\" <URL> \", email=\" <MAIL> \")\n",
    "# all_text_neg = handle_foody_data(all_text_neg, phone_number=\" <PN> \", url=\" <URL> \", email=\" <MAIL> \")\n",
    "all_text_pos = handle_foody_data(all_text_pos, phone_number=\" <PN> \", url=\" <URL> \", email=\" <MAIL> \", lowercase=False, remove_punctuation=False, remove_whitespace=False)\n",
    "all_text_neg = handle_foody_data(all_text_neg, phone_number=\" <PN> \", url=\" <URL> \", email=\" <MAIL> \", lowercase=False, remove_punctuation=False, remove_whitespace=False)"
   ]
  },
  {
   "cell_type": "code",
   "execution_count": 49,
   "id": "a1bd59a8",
   "metadata": {},
   "outputs": [],
   "source": [
    "new_text_pos = all_text_pos.split(\"sepsepsepsepsep\")\n",
    "new_text_neg = all_text_neg.split(\"sepsepsepsepsep\")"
   ]
  },
  {
   "cell_type": "code",
   "execution_count": 50,
   "id": "018febb9",
   "metadata": {},
   "outputs": [
    {
     "name": "stdout",
     "output_type": "stream",
     "text": [
      "25000\n",
      "25000\n"
     ]
    }
   ],
   "source": [
    "print(len(new_text_pos))\n",
    "print(len(new_text_neg))"
   ]
  },
  {
   "cell_type": "code",
   "execution_count": 51,
   "id": "ecf85d42",
   "metadata": {},
   "outputs": [],
   "source": [
    "# from deep_translator import GoogleTranslator\n",
    "\n",
    "# proxies_example = {\n",
    "#     \"https\": \"10.30.153.169:3128\",\n",
    "#     \"http\": \"10.30.153.169:3128\"\n",
    "# }\n",
    "\n",
    "# model = GoogleTranslator(source='en', target='vi', proxies=proxies_example)\n",
    "\n",
    "# # def translate(job):\n",
    "# #     try :\n",
    "# #         if isinstance(job, str):\n",
    "# #             src = translator.detect(job).lang\n",
    "# #             if \"vi\" in src:\n",
    "# #                 src.remove('vi')\n",
    "# #             translated = translator.translate(job, src=src, dest='vi')\n",
    "# #             print(\"translate : \", job, \" -> \", translated.text.lower())\n",
    "# #             return translated.text.lower()\n",
    "# #     except :\n",
    "# #         return job\n",
    "\n",
    "# model.translate('beaming face with smiling eyes')"
   ]
  },
  {
   "cell_type": "code",
   "execution_count": 52,
   "id": "e4ac0db0",
   "metadata": {},
   "outputs": [
    {
     "data": {
      "text/plain": [
       "['Ban đêm đói bụng tìm đến nhà hàng này . Không ăn được ếch nên đến đây chỉ chọn các món dimsum . Không hề thất vọng , dimsum ở đây rất ngon . Xíu mại gạch cua thơm véo , sực sực thịt cua . Tàu hũ ky chiên tôm chấm sốt mayonnaise thì món khoái khẩu của mình , giòn thơm , chấm với sốt cảm nhận vị tôm béo , vỏ tàu hũ giòn rụm . Món chả giò hải sản Singapore cũng là điểm cộng , ráo dầu , nhân nếm vừa miệng , nước mắm chua ngọt hơi sệt ăn rất thích . Nhân viên từ bảo vệ đến phục vụ đều vui vẻ , nbiệt tình . Không gian mát mẻ , xanh và thoáng . Vị trí cũng thuận lợi dễ tìm . ',\n",
       " 'Mình đi nhóm 4 người , gọi 3caramel và 1 trà xanh . Rất ngon , mùi matcha thơm béo ngậy , thạch ngon , to . View đẹp , khách tập nập . Nhân viên rất nhiệt tình . ',\n",
       " 'Trà đào thơm , có cả miếng đào , vị trà đậm , uosng xong vẫn còn thấy mùi đào . Đi nắng mà uống 1 ly là ngon phải biết ! ']"
      ]
     },
     "execution_count": 52,
     "metadata": {},
     "output_type": "execute_result"
    }
   ],
   "source": [
    "new_text_pos[:3]"
   ]
  },
  {
   "cell_type": "code",
   "execution_count": 53,
   "id": "e33ed9a6",
   "metadata": {},
   "outputs": [
    {
     "data": {
      "text/plain": [
       "['Ban đêm đói bụng tìm đến nhà hàng này . Không ăn được ếch nên đến đây chỉ chọn các món dimsum .\\nKhông hề thất vọng , dimsum ở đây rất ngon . Xíu mại gạch cua thơm véo , sực sực thịt cua . Tàu hũ ky chiên tôm chấm sốt mayonnaise thì món khoái khẩu của mình , giòn thơm , chấm với sốt cảm nhận vị tôm béo , vỏ tàu hũ giòn rụm . Món chả giò hải sản Singapore cũng là điểm cộng , ráo dầu , nhân nếm vừa miệng , nước mắm chua ngọt hơi sệt ăn rất thích .\\nNhân viên từ bảo vệ đến phục vụ đều vui vẻ , nbiệt tình .\\nKhông gian mát mẻ , xanh và thoáng . Vị trí cũng thuận lợi dễ tìm .\\n',\n",
       " 'Mình đi nhóm 4 người , gọi 3caramel và 1 trà xanh . Rất ngon , mùi matcha thơm béo ngậy , thạch ngon , to . View đẹp , khách tập nập . Nhân viên rất nhiệt tình .\\n',\n",
       " 'Trà đào thơm , có cả miếng đào , vị trà đậm , uosng xong vẫn còn thấy mùi đào . Đi nắng mà uống 1 ly là ngon phải biết !\\n']"
      ]
     },
     "execution_count": 53,
     "metadata": {},
     "output_type": "execute_result"
    }
   ],
   "source": [
    "text_pos[:3]"
   ]
  },
  {
   "cell_type": "code",
   "execution_count": 54,
   "id": "494c6103",
   "metadata": {},
   "outputs": [
    {
     "name": "stderr",
     "output_type": "stream",
     "text": [
      "100%|██████████| 25000/25000 [00:39<00:00, 627.14it/s]\n",
      "100%|██████████| 25000/25000 [00:43<00:00, 572.78it/s]\n"
     ]
    }
   ],
   "source": [
    "# new_text_pos = list(map(normalize_text_to_nfc_standard, text_pos))\n",
    "# new_text_neg = list(map(normalize_text_to_nfc_standard, text_neg))\n",
    "new_text_pos = segment_data(new_text_pos)\n",
    "new_text_neg = segment_data(new_text_neg)"
   ]
  },
  {
   "cell_type": "code",
   "execution_count": 55,
   "id": "14ea5ff6",
   "metadata": {},
   "outputs": [],
   "source": [
    "pos_label = len(new_text_pos)*[1]\n",
    "neg_label = len(new_text_neg)*[0]"
   ]
  },
  {
   "cell_type": "code",
   "execution_count": 56,
   "id": "e93d1768",
   "metadata": {},
   "outputs": [],
   "source": [
    "data = list(zip(new_text_pos, pos_label)) + list(zip(new_text_neg, neg_label))"
   ]
  },
  {
   "cell_type": "code",
   "execution_count": 57,
   "id": "056f61a0",
   "metadata": {},
   "outputs": [],
   "source": [
    "data = pd.DataFrame(data, columns=['text', 'label'])"
   ]
  },
  {
   "cell_type": "code",
   "execution_count": 58,
   "id": "103c319b",
   "metadata": {},
   "outputs": [],
   "source": [
    "data = data.sample(frac=1, random_state=69).reset_index(drop=True)"
   ]
  },
  {
   "cell_type": "code",
   "execution_count": 59,
   "id": "beec9a8f",
   "metadata": {},
   "outputs": [
    {
     "data": {
      "text/html": [
       "<div>\n",
       "<style scoped>\n",
       "    .dataframe tbody tr th:only-of-type {\n",
       "        vertical-align: middle;\n",
       "    }\n",
       "\n",
       "    .dataframe tbody tr th {\n",
       "        vertical-align: top;\n",
       "    }\n",
       "\n",
       "    .dataframe thead th {\n",
       "        text-align: right;\n",
       "    }\n",
       "</style>\n",
       "<table border=\"1\" class=\"dataframe\">\n",
       "  <thead>\n",
       "    <tr style=\"text-align: right;\">\n",
       "      <th></th>\n",
       "      <th>text</th>\n",
       "      <th>label</th>\n",
       "    </tr>\n",
       "  </thead>\n",
       "  <tbody>\n",
       "  </tbody>\n",
       "</table>\n",
       "</div>"
      ],
      "text/plain": [
       "Empty DataFrame\n",
       "Columns: [text, label]\n",
       "Index: []"
      ]
     },
     "execution_count": 59,
     "metadata": {},
     "output_type": "execute_result"
    }
   ],
   "source": [
    "data[data['text'].apply(lambda s: len(s)<2)]"
   ]
  },
  {
   "cell_type": "code",
   "execution_count": 13,
   "id": "57aa1afa",
   "metadata": {
    "scrolled": true
   },
   "outputs": [],
   "source": [
    "# data = data.drop([3043, 8132, 8875]).reset_index(drop=True)"
   ]
  },
  {
   "cell_type": "code",
   "execution_count": 14,
   "id": "5516f73c",
   "metadata": {},
   "outputs": [],
   "source": [
    "# data[data['text'].apply(lambda s: len(s)<2)]"
   ]
  },
  {
   "cell_type": "code",
   "execution_count": 60,
   "id": "de4fca6b",
   "metadata": {},
   "outputs": [
    {
     "data": {
      "text/html": [
       "<div>\n",
       "<style scoped>\n",
       "    .dataframe tbody tr th:only-of-type {\n",
       "        vertical-align: middle;\n",
       "    }\n",
       "\n",
       "    .dataframe tbody tr th {\n",
       "        vertical-align: top;\n",
       "    }\n",
       "\n",
       "    .dataframe thead th {\n",
       "        text-align: right;\n",
       "    }\n",
       "</style>\n",
       "<table border=\"1\" class=\"dataframe\">\n",
       "  <thead>\n",
       "    <tr style=\"text-align: right;\">\n",
       "      <th></th>\n",
       "      <th>text</th>\n",
       "      <th>label</th>\n",
       "    </tr>\n",
       "  </thead>\n",
       "  <tbody>\n",
       "    <tr>\n",
       "      <th>0</th>\n",
       "      <td>Quán ở đây lúc_nào mình vô cũng cảm_thấy không...</td>\n",
       "      <td>1</td>\n",
       "    </tr>\n",
       "    <tr>\n",
       "      <th>1</th>\n",
       "      <td>Thấy nhiều bạn khen chỗ này dữ_dội quá ( dĩ_nh...</td>\n",
       "      <td>0</td>\n",
       "    </tr>\n",
       "    <tr>\n",
       "      <th>2</th>\n",
       "      <td>Quán rộng_rãi thoáng mát đồ_ăn ngon sạch_sẽ đư...</td>\n",
       "      <td>1</td>\n",
       "    </tr>\n",
       "    <tr>\n",
       "      <th>3</th>\n",
       "      <td>Đến lúc trưa t 7 tầm 12h30 lúc đầu đông khách ...</td>\n",
       "      <td>0</td>\n",
       "    </tr>\n",
       "    <tr>\n",
       "      <th>4</th>\n",
       "      <td>Mình đi spa này với mẹ mình lâu rồi , mua trên...</td>\n",
       "      <td>0</td>\n",
       "    </tr>\n",
       "  </tbody>\n",
       "</table>\n",
       "</div>"
      ],
      "text/plain": [
       "                                                text  label\n",
       "0  Quán ở đây lúc_nào mình vô cũng cảm_thấy không...      1\n",
       "1  Thấy nhiều bạn khen chỗ này dữ_dội quá ( dĩ_nh...      0\n",
       "2  Quán rộng_rãi thoáng mát đồ_ăn ngon sạch_sẽ đư...      1\n",
       "3  Đến lúc trưa t 7 tầm 12h30 lúc đầu đông khách ...      0\n",
       "4  Mình đi spa này với mẹ mình lâu rồi , mua trên...      0"
      ]
     },
     "execution_count": 60,
     "metadata": {},
     "output_type": "execute_result"
    }
   ],
   "source": [
    "data.head()"
   ]
  },
  {
   "cell_type": "code",
   "execution_count": 61,
   "id": "452df8c7",
   "metadata": {},
   "outputs": [],
   "source": [
    "# data.to_csv('./data/new_data/preprocessed_unsegmented_data.csv', index=False)\n",
    "# data.to_csv('./data/preprocessed_unsegmented_data_2.csv', index=False)\n",
    "# data.to_csv('./data/new_data/unpreprocessed_segmented_data.csv', index=False)\n",
    "# data.to_csv('./data/new_data/preprocessed_segmented_crawled_data.csv', index=False)\n",
    "data.to_csv('./data/new_data/preprocessed_segmented_data.csv', index=False)"
   ]
  },
  {
   "cell_type": "code",
   "execution_count": null,
   "id": "1af04119",
   "metadata": {},
   "outputs": [],
   "source": []
  }
 ],
 "metadata": {
  "kernelspec": {
   "display_name": "Python 3.10.8 ('python310')",
   "language": "python",
   "name": "python3"
  },
  "language_info": {
   "codemirror_mode": {
    "name": "ipython",
    "version": 3
   },
   "file_extension": ".py",
   "mimetype": "text/x-python",
   "name": "python",
   "nbconvert_exporter": "python",
   "pygments_lexer": "ipython3",
   "version": "3.10.8"
  },
  "vscode": {
   "interpreter": {
    "hash": "f96b880d9b8b52877ffc5ba618d6f8f367718cc9e0354ce2859c6c97aa00a7f3"
   }
  }
 },
 "nbformat": 4,
 "nbformat_minor": 5
}

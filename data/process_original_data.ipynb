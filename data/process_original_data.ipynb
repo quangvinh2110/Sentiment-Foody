{
 "cells": [
  {
   "cell_type": "code",
   "execution_count": 1,
   "id": "ac8ca929",
   "metadata": {
    "scrolled": true
   },
   "outputs": [
    {
     "name": "stdout",
     "output_type": "stream",
     "text": [
      "2022-12-13 10:30:44 INFO  WordSegmenter:24 - Loading Word Segmentation model\n"
     ]
    }
   ],
   "source": [
    "import pandas as pd\n",
    "import matplotlib.pyplot as plt\n",
    "import seaborn as sns\n",
    "from data_utils import *\n",
    "from preprocess.preprocess import *"
   ]
  },
  {
   "cell_type": "code",
   "execution_count": 2,
   "id": "1d903159",
   "metadata": {},
   "outputs": [],
   "source": [
    "# data = pd.read_csv('./data/data.csv').dropna().reset_index(drop=True)\n",
    "data = pd.read_csv('./data/original_data/full_train.csv')\n",
    "data = data[['Comment', 'Rating']].dropna().reset_index(drop=True)"
   ]
  },
  {
   "cell_type": "code",
   "execution_count": 3,
   "id": "11df5dca",
   "metadata": {
    "scrolled": true
   },
   "outputs": [],
   "source": [
    "# data[data['rating'].apply(lambda r: True if r>7.0 or r<6.0 else False)]['rating']"
   ]
  },
  {
   "cell_type": "code",
   "execution_count": 4,
   "id": "55dd98d1",
   "metadata": {},
   "outputs": [],
   "source": [
    "# sns.histplot(data[data['rating'].apply(lambda r: True if r>7.0 or r<6.0 else False)]['rating'])\n",
    "# sns.histplot(data['rating'])\n",
    "# plt.show()"
   ]
  },
  {
   "cell_type": "code",
   "execution_count": 5,
   "id": "7c343350",
   "metadata": {},
   "outputs": [],
   "source": [
    "# data['text'] = data['Comment'].apply(normalize_text_to_nfc_standard)\n",
    "# data['label'] = data['Rating']\n",
    "# data = data[['text', 'label']]"
   ]
  },
  {
   "cell_type": "code",
   "execution_count": 6,
   "id": "43105cf2",
   "metadata": {},
   "outputs": [
    {
     "data": {
      "text/plain": [
       "1.0    7146\n",
       "0.0    1924\n",
       "Name: Rating, dtype: int64"
      ]
     },
     "execution_count": 6,
     "metadata": {},
     "output_type": "execute_result"
    }
   ],
   "source": [
    "data['Rating'].value_counts()"
   ]
  },
  {
   "cell_type": "code",
   "execution_count": 4,
   "id": "f811ee27",
   "metadata": {},
   "outputs": [],
   "source": [
    "text_pos = data[data['Rating']==1]['Comment'].values\n",
    "text_neg = data[data['Rating']==0]['Comment'].values"
   ]
  },
  {
   "cell_type": "code",
   "execution_count": 5,
   "id": "62ecbc07",
   "metadata": {},
   "outputs": [
    {
     "name": "stdout",
     "output_type": "stream",
     "text": [
      "7146\n",
      "1924\n"
     ]
    }
   ],
   "source": [
    "print(len(text_pos))\n",
    "print(len(text_neg))"
   ]
  },
  {
   "cell_type": "code",
   "execution_count": 6,
   "id": "e422a72f",
   "metadata": {},
   "outputs": [],
   "source": [
    "all_text_pos = \"sepsepsepsepsep\".join(text_pos)\n",
    "all_text_neg = \"sepsepsepsepsep\".join(text_neg)"
   ]
  },
  {
   "cell_type": "code",
   "execution_count": 7,
   "id": "3a66da1d",
   "metadata": {},
   "outputs": [],
   "source": [
    "# all_text_pos = handle_foody_data(all_text_pos, lowercase=False, tone_normalize=False)\n",
    "# all_text_neg = handle_foody_data(all_text_neg, lowercase=False, tone_normalize=False)\n",
    "# all_text_pos = handle_foody_data(all_text_pos, lowercase=False)\n",
    "# all_text_neg = handle_foody_data(all_text_neg, lowercase=False)\n",
    "# all_text_pos = handle_foody_data(all_text_pos, phone_number=\" <PN> \", url=\" <URL> \", email=\" <MAIL> \")\n",
    "# all_text_neg = handle_foody_data(all_text_neg, phone_number=\" <PN> \", url=\" <URL> \", email=\" <MAIL> \")\n",
    "all_text_pos = handle_foody_data(all_text_pos, phone_number=\" <PN> \", url=\" <URL> \", email=\" <MAIL> \", lowercase=False, remove_punctuation=False)\n",
    "all_text_neg = handle_foody_data(all_text_neg, phone_number=\" <PN> \", url=\" <URL> \", email=\" <MAIL> \", lowercase=False, remove_punctuation=False)"
   ]
  },
  {
   "cell_type": "code",
   "execution_count": 8,
   "id": "a1bd59a8",
   "metadata": {},
   "outputs": [],
   "source": [
    "new_text_pos = all_text_pos.split(\"sepsepsepsepsep\")\n",
    "new_text_neg = all_text_neg.split(\"sepsepsepsepsep\")"
   ]
  },
  {
   "cell_type": "code",
   "execution_count": 9,
   "id": "018febb9",
   "metadata": {},
   "outputs": [
    {
     "name": "stdout",
     "output_type": "stream",
     "text": [
      "7145\n",
      "1924\n"
     ]
    }
   ],
   "source": [
    "print(len(new_text_pos))\n",
    "print(len(new_text_neg))"
   ]
  },
  {
   "cell_type": "code",
   "execution_count": 10,
   "id": "f0592821",
   "metadata": {},
   "outputs": [
    {
     "data": {
      "text/plain": [
       "['Xôi dẻo, đồ ăn đậm vị. Hộp xôi được lót lá trông rất thích',\n",
       " 'Thời tiết lạnh như này, cả nhà rủ nhau đến legarden thì hết ý. Nhà mình đã ăn ở đây nhiều rồi rất ưng thái độ phục vụ của các bạn nhân viên, tận tình như người nhà. Đồ ăn thì miễn bàn mình chưa tìm được quán ăn hồng kong nào chuẩn vị như ở đây',\n",
       " 'Đồ ăn rất ngon, nhà hàng cũng rất đẹp, tất cả đều ok cho đến khi mình chờ 2 món cuối lâu quá. Mình gọi hỏi thì nhân viên order liên tục phủ nhận mìn chưa gọi trong khi đấy là 2 món mình đặt đầu tiên. Không nhận lỗi và cũng không xin lỗi, càng không có ý định làm tiếp hai món đấy cho mình :) Đây là lần đầu tiên vào một nhà hàng (giá) cao cấp mà gặp chuyện như này :) Mong nhà hàng có thể xem xét lại nhân viên phục vụ một cách tốt hơn :) không cần xuất sắc quá đâu, không trả treo khách là đủ rồi :)']"
      ]
     },
     "execution_count": 10,
     "metadata": {},
     "output_type": "execute_result"
    }
   ],
   "source": [
    "new_text_pos[:3]"
   ]
  },
  {
   "cell_type": "code",
   "execution_count": 11,
   "id": "e33ed9a6",
   "metadata": {},
   "outputs": [
    {
     "data": {
      "text/plain": [
       "['Xôi dẻo, đồ ăn đậm vị. Hộp xôi được lót lá trông rất thích',\n",
       " 'Thời tiết lạnh như này, cả nhà rủ nhau đến legarden thì hết ý. Nhà mình đã ăn ở đây nhiều rồi rất ưng thái độ phục vụ của các bạn nhân viên, tận tình như người nhà. Đồ ăn thì miễn bàn mình chưa tìm được quán ăn hồng kong nào chuẩn vị như ở đây',\n",
       " 'Đồ ăn rất ngon, nhà hàng cũng rất đẹp, tất cả đều ok cho đến khi mình chờ 2 món cuối lâu quá. \\nMình gọi hỏi thì nhân viên order liên tục phủ nhận mìn chưa gọi trong khi đấy là 2 món mình đặt đầu tiên.\\nKhông nhận lỗi và cũng không xin lỗi, càng không có ý định làm tiếp hai món đấy cho mình :) \\nĐây là lần đầu tiên vào một nhà hàng (giá) cao cấp mà gặp chuyện như này :) \\nMong nhà hàng có thể xem xét lại nhân viên phục vụ một cách tốt hơn :) không cần xuất sắc quá đâu, không trả treo khách là đủ rồi :)']"
      ]
     },
     "execution_count": 11,
     "metadata": {},
     "output_type": "execute_result"
    }
   ],
   "source": [
    "text_pos[:3].tolist()"
   ]
  },
  {
   "cell_type": "code",
   "execution_count": null,
   "id": "bf0efb82",
   "metadata": {},
   "outputs": [],
   "source": [
    "text_pos = list(map(normalize_text_to_nfc_standard, text_pos))\n",
    "text_neg = list(map(normalize_text_to_nfc_standard, text_neg))\n",
    "new_text_pos = list(map(normalize_tone, text_pos))\n",
    "new_text_neg = list(map(normalize_tone, text_neg))"
   ]
  },
  {
   "cell_type": "code",
   "execution_count": 12,
   "id": "494c6103",
   "metadata": {},
   "outputs": [
    {
     "name": "stderr",
     "output_type": "stream",
     "text": [
      "100%|██████████| 7145/7145 [00:12<00:00, 590.60it/s]\n",
      "100%|██████████| 1924/1924 [00:02<00:00, 756.98it/s]\n"
     ]
    }
   ],
   "source": [
    "# new_text_pos = list(map(normalize_text_to_nfc_standard, text_pos))\n",
    "# new_text_neg = list(map(normalize_text_to_nfc_standard, text_neg))\n",
    "new_text_pos = segment_data(new_text_pos)\n",
    "new_text_neg = segment_data(new_text_neg)"
   ]
  },
  {
   "cell_type": "code",
   "execution_count": 13,
   "id": "14ea5ff6",
   "metadata": {},
   "outputs": [],
   "source": [
    "pos_label = len(new_text_pos)*[1]\n",
    "neg_label = len(new_text_neg)*[0]"
   ]
  },
  {
   "cell_type": "code",
   "execution_count": 14,
   "id": "e93d1768",
   "metadata": {},
   "outputs": [],
   "source": [
    "data = list(zip(new_text_pos, pos_label)) + list(zip(new_text_neg, neg_label))"
   ]
  },
  {
   "cell_type": "code",
   "execution_count": 15,
   "id": "056f61a0",
   "metadata": {},
   "outputs": [],
   "source": [
    "data = pd.DataFrame(data, columns=['text', 'label'])"
   ]
  },
  {
   "cell_type": "code",
   "execution_count": 16,
   "id": "103c319b",
   "metadata": {},
   "outputs": [],
   "source": [
    "data = data.sample(frac=1, random_state=69).reset_index(drop=True)"
   ]
  },
  {
   "cell_type": "code",
   "execution_count": 17,
   "id": "99ed3729",
   "metadata": {},
   "outputs": [
    {
     "data": {
      "text/html": [
       "<div>\n",
       "<style scoped>\n",
       "    .dataframe tbody tr th:only-of-type {\n",
       "        vertical-align: middle;\n",
       "    }\n",
       "\n",
       "    .dataframe tbody tr th {\n",
       "        vertical-align: top;\n",
       "    }\n",
       "\n",
       "    .dataframe thead th {\n",
       "        text-align: right;\n",
       "    }\n",
       "</style>\n",
       "<table border=\"1\" class=\"dataframe\">\n",
       "  <thead>\n",
       "    <tr style=\"text-align: right;\">\n",
       "      <th></th>\n",
       "      <th>text</th>\n",
       "      <th>label</th>\n",
       "    </tr>\n",
       "  </thead>\n",
       "  <tbody>\n",
       "    <tr>\n",
       "      <th>3041</th>\n",
       "      <td>.</td>\n",
       "      <td>1</td>\n",
       "    </tr>\n",
       "    <tr>\n",
       "      <th>3727</th>\n",
       "      <td></td>\n",
       "      <td>1</td>\n",
       "    </tr>\n",
       "    <tr>\n",
       "      <th>6232</th>\n",
       "      <td>.</td>\n",
       "      <td>0</td>\n",
       "    </tr>\n",
       "    <tr>\n",
       "      <th>7095</th>\n",
       "      <td></td>\n",
       "      <td>1</td>\n",
       "    </tr>\n",
       "  </tbody>\n",
       "</table>\n",
       "</div>"
      ],
      "text/plain": [
       "     text  label\n",
       "3041    .      1\n",
       "3727          1\n",
       "6232    .      0\n",
       "7095          1"
      ]
     },
     "execution_count": 17,
     "metadata": {},
     "output_type": "execute_result"
    }
   ],
   "source": [
    "data[data['text'].apply(lambda s: len(s)<2)]"
   ]
  },
  {
   "cell_type": "code",
   "execution_count": 18,
   "id": "b872b887",
   "metadata": {},
   "outputs": [],
   "source": [
    "data = data.drop([3041, 3727, 6232, 7095]).reset_index(drop=True)"
   ]
  },
  {
   "cell_type": "code",
   "execution_count": 19,
   "id": "57aa1afa",
   "metadata": {
    "scrolled": true
   },
   "outputs": [
    {
     "data": {
      "text/html": [
       "<div>\n",
       "<style scoped>\n",
       "    .dataframe tbody tr th:only-of-type {\n",
       "        vertical-align: middle;\n",
       "    }\n",
       "\n",
       "    .dataframe tbody tr th {\n",
       "        vertical-align: top;\n",
       "    }\n",
       "\n",
       "    .dataframe thead th {\n",
       "        text-align: right;\n",
       "    }\n",
       "</style>\n",
       "<table border=\"1\" class=\"dataframe\">\n",
       "  <thead>\n",
       "    <tr style=\"text-align: right;\">\n",
       "      <th></th>\n",
       "      <th>text</th>\n",
       "      <th>label</th>\n",
       "    </tr>\n",
       "  </thead>\n",
       "  <tbody>\n",
       "  </tbody>\n",
       "</table>\n",
       "</div>"
      ],
      "text/plain": [
       "Empty DataFrame\n",
       "Columns: [text, label]\n",
       "Index: []"
      ]
     },
     "execution_count": 19,
     "metadata": {},
     "output_type": "execute_result"
    }
   ],
   "source": [
    "data[data['text'].apply(lambda s: len(s)<2)]"
   ]
  },
  {
   "cell_type": "code",
   "execution_count": 20,
   "id": "e41c5bc7",
   "metadata": {},
   "outputs": [
    {
     "data": {
      "text/html": [
       "<div>\n",
       "<style scoped>\n",
       "    .dataframe tbody tr th:only-of-type {\n",
       "        vertical-align: middle;\n",
       "    }\n",
       "\n",
       "    .dataframe tbody tr th {\n",
       "        vertical-align: top;\n",
       "    }\n",
       "\n",
       "    .dataframe thead th {\n",
       "        text-align: right;\n",
       "    }\n",
       "</style>\n",
       "<table border=\"1\" class=\"dataframe\">\n",
       "  <thead>\n",
       "    <tr style=\"text-align: right;\">\n",
       "      <th></th>\n",
       "      <th>text</th>\n",
       "      <th>label</th>\n",
       "    </tr>\n",
       "  </thead>\n",
       "  <tbody>\n",
       "    <tr>\n",
       "      <th>0</th>\n",
       "      <td>Đang khát uống đc cốc này phê dã mannn  </td>\n",
       "      <td>1</td>\n",
       "    </tr>\n",
       "    <tr>\n",
       "      <th>1</th>\n",
       "      <td>Mình đi xem cuộc thi bên cung_văn_hoá , đói mờ...</td>\n",
       "      <td>1</td>\n",
       "    </tr>\n",
       "    <tr>\n",
       "      <th>2</th>\n",
       "      <td>Bánh_mì ngon , nhiều loại đa dang mà giá khá ổ...</td>\n",
       "      <td>1</td>\n",
       "    </tr>\n",
       "    <tr>\n",
       "      <th>3</th>\n",
       "      <td>Thức_ăn ngon đặc_biệt là bolognese ở đây đầy ú...</td>\n",
       "      <td>1</td>\n",
       "    </tr>\n",
       "    <tr>\n",
       "      <th>4</th>\n",
       "      <td>Sáng có việc đi qua nên rẽ vào ăn . Gọi bát ch...</td>\n",
       "      <td>1</td>\n",
       "    </tr>\n",
       "  </tbody>\n",
       "</table>\n",
       "</div>"
      ],
      "text/plain": [
       "                                                text  label\n",
       "0         Đang khát uống đc cốc này phê dã mannn        1\n",
       "1  Mình đi xem cuộc thi bên cung_văn_hoá , đói mờ...      1\n",
       "2  Bánh_mì ngon , nhiều loại đa dang mà giá khá ổ...      1\n",
       "3  Thức_ăn ngon đặc_biệt là bolognese ở đây đầy ú...      1\n",
       "4  Sáng có việc đi qua nên rẽ vào ăn . Gọi bát ch...      1"
      ]
     },
     "execution_count": 20,
     "metadata": {},
     "output_type": "execute_result"
    }
   ],
   "source": [
    "data.head()"
   ]
  },
  {
   "cell_type": "code",
   "execution_count": 21,
   "id": "452df8c7",
   "metadata": {},
   "outputs": [],
   "source": [
    "# data.to_csv('./data/original_data/preprocessed_unsegmented_data.csv', index=False)\n",
    "# data.to_csv('./data/preprocessed_unsegmented_data_1.csv', index=False)\n",
    "# data.to_csv('./data/original_data/unpreprocessed_segmented_data.csv', index=False)\n",
    "data.to_csv('./data/original_data/preprocessed_segmented_data.csv', index=False)"
   ]
  },
  {
   "cell_type": "code",
   "execution_count": null,
   "id": "3f88b25d",
   "metadata": {},
   "outputs": [],
   "source": []
  }
 ],
 "metadata": {
  "kernelspec": {
   "display_name": "Python 3.10.8 ('python310')",
   "language": "python",
   "name": "python3"
  },
  "language_info": {
   "codemirror_mode": {
    "name": "ipython",
    "version": 3
   },
   "file_extension": ".py",
   "mimetype": "text/x-python",
   "name": "python",
   "nbconvert_exporter": "python",
   "pygments_lexer": "ipython3",
   "version": "3.10.8"
  },
  "vscode": {
   "interpreter": {
    "hash": "f96b880d9b8b52877ffc5ba618d6f8f367718cc9e0354ce2859c6c97aa00a7f3"
   }
  }
 },
 "nbformat": 4,
 "nbformat_minor": 5
}
